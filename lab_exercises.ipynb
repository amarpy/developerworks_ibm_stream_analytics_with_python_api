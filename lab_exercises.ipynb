{
 "cells": [
  {
   "cell_type": "markdown",
   "metadata": {},
   "source": [
    "# Prerequisites\n",
    "\n",
    "Ensure you are using a Python 3.5 kernel to run this notebook.\n",
    "\n",
    "## Setting up the streamsx.health module\n",
    "\n",
    "For this course, you'll need the streamsx.health module. Run the cell below to install it:"
   ]
  },
  {
   "cell_type": "code",
   "execution_count": 15,
   "metadata": {},
   "outputs": [
    {
     "name": "stdout",
     "output_type": "stream",
     "text": [
      "Collecting streamsx_health.ingest from git+https://github.com/IBMStreams/streamsx.health#egg=streamsx_health.ingest&subdirectory=ingest/common/python/package\n",
      "  Cloning https://github.com/IBMStreams/streamsx.health to /tmp/s98e-d29fea53683750-ad703ab2e4e9/pip-build/streamsx-health.ingest\n",
      "Installing collected packages: streamsx-health.ingest\n",
      "  Found existing installation: streamsx-health.ingest 0.1\n",
      "    Uninstalling streamsx-health.ingest-0.1:\n",
      "      Successfully uninstalled streamsx-health.ingest-0.1\n",
      "  Running setup.py install for streamsx-health.ingest ... \u001b[?25ldone\n",
      "\u001b[?25hSuccessfully installed streamsx-health.ingest-0.1\n"
     ]
    }
   ],
   "source": [
    "!pip install --upgrade \"git+https://github.com/IBMStreams/streamsx.health#egg=streamsx_health.ingest&subdirectory=ingest/common/python/package\""
   ]
  },
  {
   "cell_type": "markdown",
   "metadata": {},
   "source": [
    "## Setting up Bluemix\n",
    "\n",
    "Open the Bluemix web portal and <a href=\"https://www.ibm.com/cloud-computing/bluemix/?S_PKG=&cm_mmc=Search_Google-_-Cloud_Bluemix+Program-_-WW_CA-_-bluemix_Exact_&cm_mmca1=000002FP&cm_mmca2=10001882&mkwid=48dda379-dca8-42ec-a613-5d0a00aab1e7|401|1648444&cvosrc=ppc.google.bluemix&cvo_campaign=Cloud_Bluemix%20Program-WW_CA&cvo_crid=191054889326&Matchtype=e\" target=\"_blank\" rel=\"noopener noreferrer\">log in or sign up for a free Bluemix account</a>.\n",
    "\n",
    "Ensure that your Streaming Analytics service is running in Bluemix.\n",
    "\n",
    "If you don’t have a service, you can create one as follows:  \n",
    "1. Click **Catalog** or **Create Service**, browse for `Streaming Analytics` and then click on it. <br>\n",
    "1. Follow the instructions on the Streaming Analytics catalog page, type the *Service name* to set up your service.<br>\n",
    "<img src='https://github.com/kcibm/tutorials/blob/master/OnlineCourse_IntroToPython/service%20name.PNG?raw=true' alt=\"Type your service name and click on Create\" title=\"Streaming Analytics catalog - Type your service name\"></img><br>\n",
    "1. Click **Create** to open the Streaming Analytics service dashboard. Your service will start automatically.\n",
    "\n",
    "<a id=\"setupservice\"></a>\n",
    "## Set up access to the service\n",
    "\n",
    "You must provide the information that your streaming app needs to access the service.\n",
    "Run the cells below to provide your service name and credentials. If you are not prompted to enter the service credentials, click **Kernel -> Restart** on the menu bar and rerun the cells.\n"
   ]
  },
  {
   "cell_type": "code",
   "execution_count": 16,
   "metadata": {},
   "outputs": [
    {
     "name": "stdout",
     "output_type": "stream",
     "text": [
      "Streaming Analytics service name:StreamAnalyticsPython\n"
     ]
    }
   ],
   "source": [
    "service_name = input(\"Streaming Analytics service name:\")"
   ]
  },
  {
   "cell_type": "code",
   "execution_count": 17,
   "metadata": {},
   "outputs": [
    {
     "name": "stdout",
     "output_type": "stream",
     "text": [
      "Streaming Analytics credentials:········\n"
     ]
    }
   ],
   "source": [
    "import getpass\n",
    "credentials=getpass.getpass('Streaming Analytics credentials:')"
   ]
  },
  {
   "cell_type": "markdown",
   "metadata": {},
   "source": [
    "**Tip:** \n",
    "To copy your service credentials, open the Streaming Analytics service dashboard click **Service Credentials**, then **View Credentials**, and finally click the Copy icon and paste your service credentials when prompted.<br>\n",
    "<img src='https://github.com/kcibm/tutorials/blob/master/OnlineCourse_IntroToPython/credentials.PNG?raw=true' alt=\"Copy your service credentials\" title=\"Streaming Analytics catalog - Copy your service credentials\"></img>\n",
    "<br>\n"
   ]
  },
  {
   "cell_type": "markdown",
   "metadata": {
    "nbpresent": {
     "id": "908f9bdf-26e3-4fee-8480-c0c75d4d0042"
    }
   },
   "source": [
    "# Lab 1 - Create a simple Python application\n",
    "\n",
    "## Step 1 - Develop a basic Python application\n",
    "\n",
    "In this exercise, you will develop a simple streaming application to process sample data.\n",
    "\n",
    "### Instructions\n",
    "\n",
    "1. Import the necessary modules from the streamsx package. You will need:\n",
    "    - the `Topology` import, from `streamsx.topology`\n",
    "    - everything in the `streamsx.topology.context` module <br><br>\n",
    "2. Create a function, called 'Observations'\n",
    "    - Create a string `jsonStr` and assign it the sample patient data shown in the section below\n",
    "    - Import the `json` module, and load the JSON data into a dictionary called `dictObj`\n",
    "    - Import the `time` module and slow your source by one second\n",
    "    - Yield `dictObj` with each iteration through the above code\n",
    "    - Finally, to simulate a continuous source, generate the data infinitely. <br><br>\n",
    "3.  Create a new topology. Then, create a new stream `patientData` from the data source you defined above.\n",
    "4. Print the data stream in the console.\n",
    "5. Submit the application over Bluemix.\n",
    "\n",
    "### Sample Data\n",
    "\n",
    "`{\"patientId\":\"patient-1\", \"device\":{\"id\":\"VitalsGenerator\", \"locationId\":\"bed1\"}, \"readingSource\":{\"id\":123, \"deviceId\":\"VitalsGenerator\", \"sourceType\":\"generated\"}, \"reading\": {\"ts\": 605, \"uom\":\"bpm\", \"value\":82.56785326532197, \"readingType\": {\"code\":\"8867-4\", \"system\":\"streamsx.heath/1.0\"}}}`"
   ]
  },
  {
   "cell_type": "code",
   "execution_count": 10,
   "metadata": {
    "nbpresent": {
     "id": "315dedf8-4caa-49bf-9c7a-4a0a86cb0b29"
    },
    "scrolled": true
   },
   "outputs": [
    {
     "name": "stdout",
     "output_type": "stream",
     "text": [
      "Nov 16, 2017 11:32:40 PM com.ibm.streamsx.topology.internal.context.remote.BuildServiceRemoteRESTWrapper remoteBuildAndSubmit\n",
      "INFO: Streaming Analytics service (StreamAnalyticsPython): Checking status\n",
      "Nov 16, 2017 11:32:46 PM com.ibm.streamsx.topology.internal.streaminganalytics.RestUtils checkInstanceStatus\n",
      "INFO: Streaming Analytics service (StreamAnalyticsPython): instance status response:{\"state\":\"STARTED\",\"plan\":\"Standard\",\"enabled\":true,\"status\":\"running\"}\n",
      "Nov 16, 2017 11:32:46 PM com.ibm.streamsx.topology.internal.context.remote.BuildServiceRemoteRESTWrapper remoteBuildAndSubmit\n",
      "INFO: Streaming Analytics service (StreamAnalyticsPython): submitting build module_6B69A8E858B7D53D\n",
      "Nov 16, 2017 11:33:36 PM com.ibm.streamsx.topology.internal.context.remote.BuildServiceRemoteRESTWrapper remoteBuildAndSubmit\n",
      "INFO: Streaming Analytics service (StreamAnalyticsPython): submitting job request.\n",
      "Nov 16, 2017 11:33:42 PM com.ibm.streamsx.topology.internal.context.remote.BuildServiceRemoteRESTWrapper doSubmitJobFromBuildArtifactPut\n",
      "INFO: Streaming Analytics service (StreamAnalyticsPython): submit job response: {\"artifact\":\"484\",\"jobId\":\"1\",\"application\":\"ipythoninput10ffa852a65941::module\",\"name\":\"ipythoninput10ffa852a65941::module_1\",\"state\":\"STARTED\",\"plan\":\"Standard\",\"enabled\":true,\"status\":\"running\"}\n"
     ]
    },
    {
     "data": {
      "text/plain": [
       "<streamsx.topology.context.SubmissionResult at 0x7f52aa2bd978>"
      ]
     },
     "execution_count": 10,
     "metadata": {},
     "output_type": "execute_result"
    }
   ],
   "source": [
    "#Imports\n",
    "from streamsx.topology.topology import Topology\n",
    "from streamsx.topology.context import * \n",
    "import json\n",
    "import time\n",
    "\n",
    "#Set up access to Streaming Analytics service\n",
    "vs={'streaming-analytics': [{'name': service_name, 'credentials': json.loads (credentials)}]}\n",
    "cfg = {}\n",
    "cfg[ConfigParams.VCAP_SERVICES] = vs\n",
    "cfg[ConfigParams.SERVICE_NAME] = service_name\n",
    "\n",
    "# Define data source\n",
    "def observations():\n",
    "    while True:\n",
    "        jsonstr =  '{\"patientId\":\"patient-1\", \"device\":{\"id\":\"VitalsGenerator\", \"locationId\":\"bed1\"}, \"readingSource\":{\"id\":123, \"deviceId\":\"VitalsGenerator\", \"sourceType\":\"generated\"}, \"reading\": {\"ts\": 605, \"uom\":\"bpm\", \"value\":82.56785326532197, \"readingType\": {\"code\":\"8867-4\", \"system\":\"streamsx.heath/1.0\"}}}'        \n",
    "        dictobj = json.loads(jsonstr)\n",
    "        time.sleep(1)\n",
    "        yield(dictobj)\n",
    "        \n",
    "# Create Topology and read from data source \n",
    "\n",
    "topo = Topology()\n",
    "patientData = topo.source(observations)\n",
    "\n",
    "\n",
    "# Print\n",
    "patientData.sink(print)\n",
    "\n",
    "# Submit on Bluemix\n",
    "submit('STREAMING_ANALYTICS_SERVICE', topo, cfg)"
   ]
  },
  {
   "cell_type": "markdown",
   "metadata": {
    "collapsed": true,
    "nbpresent": {
     "id": "4eea0842-9947-46d3-b671-9ae238a11786"
    }
   },
   "source": [
    "# Lab 2 - Handle a diversity of patient data\n",
    "\n",
    "## Step 1 - Filter data using lambda function\n",
    "\n",
    "In this exercise, you will modify the application to only handle heart rate from the patient readings.\n",
    "\n",
    "1.  Filter out all the readings whose `code` value is not '8867-4'. Assign the name `heartRate` to the filtered stream. \n",
    "2.  Fix the `sink()` function to sink the `heartRate` stream instead.\n",
    "3.  Submit the application over Bluemix and view the output on your Streams Console.\n",
    "\n",
    "## Step 2 - Submit the patient simulator job\n",
    "\n",
    "1. On the Streams Console, click the 'Submit Job' button\n",
    "2.  Leave the instance field as its default value\n",
    "3.  Select 'Specify the URL of the application bundle' and enter the following URL:\n",
    "    https://github.com/IBMStreams/streamsx.health/releases/download/v0.1/com.ibm.streamsx.health.simulate.beacon.services.HealthDataBeaconService.sab\n",
    "4. Click 'Submit.'<br>\n",
    "    \n",
    "## Step 3 - Subscribe to the simulator\n",
    "1.  Import the `schema` module from `streamsx.topology`.\n",
    "2. Replace your `Observations` source with a Subscribe call to the patient simulator. The topic to subscribe to is `'ingest-beacon'`.\n",
    "3.  Make sure the simulator is running before you submit any subsequent applications.\n",
    "4.  Submit your application over Bluemix and view the output."
   ]
  },
  {
   "cell_type": "code",
   "execution_count": 20,
   "metadata": {
    "nbpresent": {
     "id": "cf4e0dd9-3f44-41e6-a3ea-93edb515fc3c"
    }
   },
   "outputs": [
    {
     "name": "stdout",
     "output_type": "stream",
     "text": [
      "Nov 17, 2017 1:15:55 AM com.ibm.streamsx.topology.internal.context.remote.BuildServiceRemoteRESTWrapper remoteBuildAndSubmit\n",
      "INFO: Streaming Analytics service (StreamAnalyticsPython): Checking status\n",
      "Nov 17, 2017 1:16:00 AM com.ibm.streamsx.topology.internal.streaminganalytics.RestUtils checkInstanceStatus\n",
      "INFO: Streaming Analytics service (StreamAnalyticsPython): instance status response:{\"state\":\"STARTED\",\"plan\":\"Standard\",\"enabled\":true,\"status\":\"running\"}\n",
      "Nov 17, 2017 1:16:00 AM com.ibm.streamsx.topology.internal.context.remote.BuildServiceRemoteRESTWrapper remoteBuildAndSubmit\n",
      "INFO: Streaming Analytics service (StreamAnalyticsPython): submitting build module_AE1A17AF25425805\n",
      "Nov 17, 2017 1:17:28 AM com.ibm.streamsx.topology.internal.context.remote.BuildServiceRemoteRESTWrapper remoteBuildAndSubmit\n",
      "INFO: Streaming Analytics service (StreamAnalyticsPython): submitting job request.\n",
      "Nov 17, 2017 1:17:38 AM com.ibm.streamsx.topology.internal.context.remote.BuildServiceRemoteRESTWrapper doSubmitJobFromBuildArtifactPut\n",
      "INFO: Streaming Analytics service (StreamAnalyticsPython): submit job response: {\"artifact\":\"486\",\"jobId\":\"4\",\"application\":\"ipythoninput20a2eb7eec5653::module\",\"name\":\"ipythoninput20a2eb7eec5653::module_4\",\"state\":\"STARTED\",\"plan\":\"Standard\",\"enabled\":true,\"status\":\"running\"}\n"
     ]
    },
    {
     "data": {
      "text/plain": [
       "<streamsx.topology.context.SubmissionResult at 0x7f52a9a9ae48>"
      ]
     },
     "execution_count": 20,
     "metadata": {},
     "output_type": "execute_result"
    }
   ],
   "source": [
    "#Imports\n",
    "from streamsx.topology.topology import Topology\n",
    "from streamsx.topology.context import * \n",
    "from streamsx.topology import schema \n",
    "\n",
    "import json\n",
    "import time\n",
    "\n",
    "#Set up access to Streaming Analytics service\n",
    "vs={'streaming-analytics': [{'name': service_name, 'credentials': json.loads (credentials)}]}\n",
    "cfg = {}\n",
    "cfg[ConfigParams.VCAP_SERVICES] = vs\n",
    "cfg[ConfigParams.SERVICE_NAME] = service_name\n",
    "\n",
    "# Define data source\n",
    "'''def observations():\n",
    "    while True:\n",
    "        jsonstr =  '{\"patientId\":\"patient-1\", \"device\":{\"id\":\"VitalsGenerator\", \"locationId\":\"bed1\"}, \"readingSource\":{\"id\":123, \"deviceId\":\"VitalsGenerator\", \"sourceType\":\"generated\"}, \"reading\": {\"ts\": 605, \"uom\":\"bpm\", \"value\":82.56785326532197, \"readingType\": {\"code\":\"8867-4\", \"system\":\"streamsx.heath/1.0\"}}}'        \n",
    "        dictobj = json.loads(jsonstr)\n",
    "        time.sleep(1)\n",
    "        yield(dictobj)'''\n",
    "        \n",
    "# Create Topology and read from data source \n",
    "\n",
    "topo = Topology()\n",
    "patientData = topo.subscribe('ingest-beacon', schema.CommonSchema.Json)\n",
    "heartRate = patientData.filter(lambda x: (x['reading']['readingType']['code']=='8867-4'))\n",
    "\n",
    "\n",
    "\n",
    "# Print\n",
    "heartRate.sink(print)\n",
    "\n",
    "# Submit on Bluemix\n",
    "submit('STREAMING_ANALYTICS_SERVICE', topo, cfg)"
   ]
  },
  {
   "cell_type": "markdown",
   "metadata": {},
   "source": [
    "# Lab 3 - Anonymize and average data \n",
    "\n",
    "## Step 1 - Anonymize Patient Data\n",
    "\n",
    "In this exercise, you are going to 'anonymize' patient data by hashing identifying information.\n",
    "\n",
    "1. Import the `hashlib` module\n",
    "2. Make a function that...\n",
    "    * Has a single parameter\n",
    "    * Hashes `patientId` and `locationId` using the sha256() algorithm<br>\n",
    "    You can use: `ITEM_TO_ENCODE = hashlib.sha256(ITEM_TO_ENCODE.encode('utf-8')).digest()`<br>\n",
    "    * Returns the modified tuple \n",
    "3.  Modify the content of each tuple on the `patientData` stream by calling the anonymize method. Name the new stream `patientX.` This step should precede the filter.\n",
    "4.  Submit over Bluemix and view the output.\n",
    "\n",
    "## Step 2 - Keeping States\n",
    "\n",
    "In this exercise, you will keep state of the last 10 tuples from the patient data stream. For each new tuple that comes in, you will calculate the moving average from the last 10 tuples.\n",
    "\n",
    "1. Import the `getReadingValue` function from the `streamsx_health.ingest.Observation` module.\n",
    "2. Create a new callable class.  The class should have a field called `last_n`, which is a list that keeps track of the last n tuples.\n",
    "    *  The \\__call\\__ method of the class should take a single parameter, `n`, which is the number of tuples over which to calculate the average\n",
    "    * When the \\__call\\__ method is called, append the tuple's heart rate reading to the list.  If the length of the list > `n`, pop the oldest tuple.\n",
    "    * Return the average of all values from the list<br><br>\n",
    "2.  Calculate the moving average of heart rate, over the last 10 tuples, calling the new stream `avgHr`\n",
    "3. Submit the application over Bluemix, and view the results - a simple list of average heart rate readings.\n"
   ]
  },
  {
   "cell_type": "code",
   "execution_count": 25,
   "metadata": {},
   "outputs": [
    {
     "name": "stdout",
     "output_type": "stream",
     "text": [
      "Nov 17, 2017 2:37:43 AM com.ibm.streamsx.topology.internal.context.remote.BuildServiceRemoteRESTWrapper remoteBuildAndSubmit\n",
      "INFO: Streaming Analytics service (StreamAnalyticsPython): Checking status\n",
      "Nov 17, 2017 2:37:48 AM com.ibm.streamsx.topology.internal.streaminganalytics.RestUtils checkInstanceStatus\n",
      "INFO: Streaming Analytics service (StreamAnalyticsPython): instance status response:{\"state\":\"STARTED\",\"plan\":\"Standard\",\"enabled\":true,\"status\":\"running\"}\n",
      "Nov 17, 2017 2:37:48 AM com.ibm.streamsx.topology.internal.context.remote.BuildServiceRemoteRESTWrapper remoteBuildAndSubmit\n",
      "INFO: Streaming Analytics service (StreamAnalyticsPython): submitting build module_3B4798FF499200E1\n",
      "Nov 17, 2017 2:38:39 AM com.ibm.streamsx.topology.internal.context.remote.BuildServiceRemoteRESTWrapper remoteBuildAndSubmit\n",
      "INFO: Streaming Analytics service (StreamAnalyticsPython): submitting job request.\n",
      "Nov 17, 2017 2:38:45 AM com.ibm.streamsx.topology.internal.context.remote.BuildServiceRemoteRESTWrapper doSubmitJobFromBuildArtifactPut\n",
      "INFO: Streaming Analytics service (StreamAnalyticsPython): submit job response: {\"artifact\":\"491\",\"jobId\":\"9\",\"application\":\"ipythoninput2523e835748673::module\",\"name\":\"ipythoninput2523e835748673::module_9\",\"state\":\"STARTED\",\"plan\":\"Standard\",\"enabled\":true,\"status\":\"running\"}\n"
     ]
    },
    {
     "data": {
      "text/plain": [
       "<streamsx.topology.context.SubmissionResult at 0x7f52a9a3def0>"
      ]
     },
     "execution_count": 25,
     "metadata": {},
     "output_type": "execute_result"
    }
   ],
   "source": [
    "#Imports\n",
    "from streamsx.topology.topology import Topology\n",
    "from streamsx.topology.context import * \n",
    "from streamsx.topology import schema \n",
    "from streamsx_health.ingest.Observation import getReadingValue\n",
    "\n",
    "import hashlib\n",
    "import json\n",
    "import time\n",
    "\n",
    "#Set up access to Streaming Analytics service\n",
    "vs={'streaming-analytics': [{'name': service_name, 'credentials': json.loads (credentials)}]}\n",
    "cfg = {}\n",
    "cfg[ConfigParams.VCAP_SERVICES] = vs\n",
    "cfg[ConfigParams.SERVICE_NAME] = service_name\n",
    "\n",
    "# Define data source\n",
    "'''def observations():\n",
    "    while True:\n",
    "        jsonstr =  '{\"patientId\":\"patient-1\", \"device\":{\"id\":\"VitalsGenerator\", \"locationId\":\"bed1\"}, \"readingSource\":{\"id\":123, \"deviceId\":\"VitalsGenerator\", \"sourceType\":\"generated\"}, \"reading\": {\"ts\": 605, \"uom\":\"bpm\", \"value\":82.56785326532197, \"readingType\": {\"code\":\"8867-4\", \"system\":\"streamsx.heath/1.0\"}}}'        \n",
    "        dictobj = json.loads(jsonstr)\n",
    "        time.sleep(1)\n",
    "        yield(dictobj)'''\n",
    "        \n",
    "\n",
    "\n",
    "# Create Topology and read from data source \n",
    "topo = Topology()\n",
    "\n",
    "#Subscribe\n",
    "patientData = topo.subscribe('ingest-beacon', schema.CommonSchema.Json)\n",
    "\n",
    "#last 10 readings\n",
    "\n",
    "class Avg:\n",
    "    def __init__(self, n):\n",
    "        self.n = n\n",
    "        self.last_n = []\n",
    "        \n",
    "    def __call__(self, tup):\n",
    "        self.last_n.append(getReadingValue(tup))\n",
    "        if (len(self.last_n) > self.n):\n",
    "            self.last_n.pop(0)\n",
    "        return sum(self.last_n) / len(self.last_n)\n",
    "            \n",
    "    \n",
    "    \n",
    "## Anonymize\n",
    "def anonymize(tup):\n",
    "    tup[\"patientId\"] = hashlib.sha256(tup[\"patientId\"].encode('utf-8')).digest()\n",
    "    tup[\"device\"][\"locationId\"] = hashlib.sha256(tup[\"device\"][\"locationId\"].encode('utf-8')).digest()\n",
    "    return tup\n",
    "\n",
    "patientX = patientData.map(anonymize)\n",
    "\n",
    "#Filter\n",
    "heartRate = patientX.filter(lambda tup: (tup['reading']['readingType']['code']=='8867-4'))\n",
    "\n",
    "#avg heartrate stream\n",
    "avgHr = heartRate.map(Avg(10))\n",
    "\n",
    "# Print\n",
    "avgHr.sink(print)\n",
    "\n",
    "# Submit on Bluemix\n",
    "submit('STREAMING_ANALYTICS_SERVICE', topo, cfg)"
   ]
  },
  {
   "cell_type": "markdown",
   "metadata": {},
   "source": [
    "# Lab 4 - Visualize data in Python notebook\n",
    "\n",
    "## Step 1 - Viewing Data\n",
    "\n",
    "1. Before the print statement, create a view from the Average Heart Rate stream.\n",
    "2.  Launch the application and proceed to the cells below.\n",
    "  "
   ]
  },
  {
   "cell_type": "code",
   "execution_count": 26,
   "metadata": {},
   "outputs": [
    {
     "name": "stdout",
     "output_type": "stream",
     "text": [
      "Nov 17, 2017 2:52:29 AM com.ibm.streamsx.topology.internal.context.remote.BuildServiceRemoteRESTWrapper remoteBuildAndSubmit\n",
      "INFO: Streaming Analytics service (StreamAnalyticsPython): Checking status\n",
      "Nov 17, 2017 2:52:34 AM com.ibm.streamsx.topology.internal.streaminganalytics.RestUtils checkInstanceStatus\n",
      "INFO: Streaming Analytics service (StreamAnalyticsPython): instance status response:{\"state\":\"STARTED\",\"plan\":\"Standard\",\"enabled\":true,\"status\":\"running\"}\n",
      "Nov 17, 2017 2:52:34 AM com.ibm.streamsx.topology.internal.context.remote.BuildServiceRemoteRESTWrapper remoteBuildAndSubmit\n",
      "INFO: Streaming Analytics service (StreamAnalyticsPython): submitting build module_B60A167E3F06FA6D\n",
      "Nov 17, 2017 2:53:38 AM com.ibm.streamsx.topology.internal.context.remote.BuildServiceRemoteRESTWrapper remoteBuildAndSubmit\n",
      "INFO: Streaming Analytics service (StreamAnalyticsPython): submitting job request.\n",
      "Nov 17, 2017 2:53:45 AM com.ibm.streamsx.topology.internal.context.remote.BuildServiceRemoteRESTWrapper doSubmitJobFromBuildArtifactPut\n",
      "INFO: Streaming Analytics service (StreamAnalyticsPython): submit job response: {\"artifact\":\"492\",\"jobId\":\"10\",\"application\":\"ipythoninput26b4678ae6767d::module\",\"name\":\"ipythoninput26b4678ae6767d::module_10\",\"state\":\"STARTED\",\"plan\":\"Standard\",\"enabled\":true,\"status\":\"running\"}\n"
     ]
    },
    {
     "data": {
      "text/plain": [
       "<streamsx.topology.context.SubmissionResult at 0x7f52a9a44f98>"
      ]
     },
     "execution_count": 26,
     "metadata": {},
     "output_type": "execute_result"
    }
   ],
   "source": [
    "#Imports\n",
    "from streamsx.topology.topology import Topology\n",
    "from streamsx.topology.context import * \n",
    "from streamsx.topology import schema \n",
    "from streamsx_health.ingest.Observation import getReadingValue\n",
    "\n",
    "import hashlib\n",
    "import json\n",
    "import time\n",
    "\n",
    "#Set up access to Streaming Analytics service\n",
    "vs={'streaming-analytics': [{'name': service_name, 'credentials': json.loads (credentials)}]}\n",
    "cfg = {}\n",
    "cfg[ConfigParams.VCAP_SERVICES] = vs\n",
    "cfg[ConfigParams.SERVICE_NAME] = service_name\n",
    "\n",
    "# Define data source\n",
    "'''def observations():\n",
    "    while True:\n",
    "        jsonstr =  '{\"patientId\":\"patient-1\", \"device\":{\"id\":\"VitalsGenerator\", \"locationId\":\"bed1\"}, \"readingSource\":{\"id\":123, \"deviceId\":\"VitalsGenerator\", \"sourceType\":\"generated\"}, \"reading\": {\"ts\": 605, \"uom\":\"bpm\", \"value\":82.56785326532197, \"readingType\": {\"code\":\"8867-4\", \"system\":\"streamsx.heath/1.0\"}}}'        \n",
    "        dictobj = json.loads(jsonstr)\n",
    "        time.sleep(1)\n",
    "        yield(dictobj)'''\n",
    "\n",
    "\n",
    "# Create Topology and read from data source \n",
    "topo = Topology()\n",
    "\n",
    "#Subscribe\n",
    "patientData = topo.subscribe('ingest-beacon', schema.CommonSchema.Json)\n",
    "    \n",
    "## Anonymize\n",
    "def anonymize(tup):\n",
    "    tup[\"patientId\"] = hashlib.sha256(tup[\"patientId\"].encode('utf-8')).digest()\n",
    "    tup[\"device\"][\"locationId\"] = hashlib.sha256(tup[\"device\"][\"locationId\"].encode('utf-8')).digest()\n",
    "    return tup\n",
    "\n",
    "patientX = patientData.map(anonymize)\n",
    "\n",
    "#Filter\n",
    "heartRate = patientX.filter(lambda tup: (tup['reading']['readingType']['code']=='8867-4'))\n",
    "\n",
    "\n",
    "#last 10 readings\n",
    "class Avg:\n",
    "    def __init__(self, n):\n",
    "        self.n = n\n",
    "        self.last_n = []\n",
    "        \n",
    "    def __call__(self, tup):\n",
    "        self.last_n.append(getReadingValue(tup))\n",
    "        if (len(self.last_n) > self.n):\n",
    "            self.last_n.pop(0)\n",
    "        return sum(self.last_n) / len(self.last_n)\n",
    "\n",
    "#avg heartrate stream\n",
    "avgHr = heartRate.map(Avg(10))\n",
    "\n",
    "#view data\n",
    "avgHrView = avgHr.view()\n",
    "\n",
    "# Print\n",
    "avgHr.sink(print)\n",
    "\n",
    "# Submit on Bluemix\n",
    "submit('STREAMING_ANALYTICS_SERVICE', topo, cfg)"
   ]
  },
  {
   "cell_type": "markdown",
   "metadata": {},
   "source": [
    "## Step 2a - Fetch View Data\n",
    "\n",
    "The following code shows how to fetch view data from a view that we have set up in a Streams application.\n",
    "\n",
    "1.  Import `deque` from the collections module. \n",
    "2. Create a deque called `plotQueue` that holds up to 2000 tuples.\n",
    "3. Start fetching data for your view.\n",
    "4. Create a `data_collector` function that iterates through your view data and appends each value to `plotQueue`.\n",
    "5.  Run `data_collector` in a background thread and save data in `plotQueue` - `plotQueue` will be used to visualize data in the next cell."
   ]
  },
  {
   "cell_type": "code",
   "execution_count": 27,
   "metadata": {},
   "outputs": [
    {
     "name": "stdout",
     "output_type": "stream",
     "text": [
      "Starting job # 0 in a separate thread.\n"
     ]
    },
    {
     "data": {
      "text/plain": [
       "<BackgroundJob #0: <function data_collecter at 0x7f52a9a292f0>>"
      ]
     },
     "execution_count": 27,
     "metadata": {},
     "output_type": "execute_result"
    }
   ],
   "source": [
    "#Imports\n",
    "from collections import deque\n",
    "from IPython.lib import backgroundjobs as bg\n",
    "\n",
    "# Create a buffer of 2000 tuples for plotting\n",
    "plotQueue = deque([], 2000)\n",
    "\n",
    "#Fetch view data\n",
    "view = avgHrView.start_data_fetch()\n",
    "\n",
    "#Define data collector function\n",
    "def data_collecter(view):\n",
    "    for d in iter(view.get, None):\n",
    "        plotQueue.append(float(d)) \n",
    "\n",
    "#Start a background thread and save view data in deque\n",
    "jobs = bg.BackgroundJobManager()\n",
    "jobs.new(data_collecter, view)\n"
   ]
  },
  {
   "cell_type": "markdown",
   "metadata": {
    "collapsed": true
   },
   "source": [
    "## Step 2b - Visualize View Data using Matplotlib\n",
    "\n",
    "The following cell shows how to view realtime data in Jupyter Notebook.\n",
    "The code updates the view once every second.  \n",
    "Data is plotted from the `plotQueue` variable.\n",
    "\n",
    "As long as the data view and the view is running, you can start and stop the following cell when you work on your analytics and visualizations."
   ]
  },
  {
   "cell_type": "code",
   "execution_count": null,
   "metadata": {},
   "outputs": [
    {
     "data": {
      "image/png": "[encoded data removed]",
      "text/plain": [
       "<matplotlib.figure.Figure at 0x7f52a9a86828>"
      ]
     },
     "metadata": {},
     "output_type": "display_data"
    },
    {
     "name": "stdout",
     "output_type": "stream",
     "text": [
      "2000\n"
     ]
    }
   ],
   "source": [
    "# Visualize view data in a line graph\n",
    "%matplotlib inline\n",
    "import time\n",
    "from IPython import display\n",
    "import pylab as pl\n",
    "\n",
    "pl.rcParams['figure.figsize'] = (14.0, 8.0)\n",
    "\n",
    "while (True):\n",
    "    pl.clf()\n",
    "    ax = pl.gca()\n",
    "    ax.set_autoscale_on(False)\n",
    "    ax.plot(plotQueue)\n",
    "    ax.axis([0, 2000, 50, 120])\n",
    "    display.display(pl.gcf())\n",
    "    print(len(plotQueue))\n",
    "    display.clear_output(wait=True)\n",
    "    time.sleep(1.0)\n"
   ]
  },
  {
   "cell_type": "code",
   "execution_count": null,
   "metadata": {
    "collapsed": true
   },
   "outputs": [],
   "source": []
  }
 ],
 "metadata": {
  "anaconda-cloud": {},
  "kernelspec": {
   "display_name": "Python 3",
   "language": "python",
   "name": "python3"
  },
  "language_info": {
   "codemirror_mode": {
    "name": "ipython",
    "version": 3
   },
   "file_extension": ".py",
   "mimetype": "text/x-python",
   "name": "python",
   "nbconvert_exporter": "python",
   "pygments_lexer": "ipython3",
   "version": "3.6.3"
  },
  "nbpresent": {
   "slides": {
    "429e034a-fc51-4734-8597-8233f00b1ca0": {
     "id": "429e034a-fc51-4734-8597-8233f00b1ca0",
     "prev": "4576f8c7-5923-40b5-9428-f93816cdb3c3",
     "regions": {
      "3e564196-15de-4439-b62e-c69a256999c4": {
       "attrs": {
        "height": 0.8,
        "width": 0.8,
        "x": 0.1,
        "y": 0.1
       },
       "content": {
        "cell": "d14afdc1-1169-42f0-8888-f2a817d13996",
        "part": "whole"
       },
       "id": "3e564196-15de-4439-b62e-c69a256999c4"
      }
     }
    },
    "4576f8c7-5923-40b5-9428-f93816cdb3c3": {
     "id": "4576f8c7-5923-40b5-9428-f93816cdb3c3",
     "prev": "64cf6d43-0bcd-4852-9edf-f34ed27c0268",
     "regions": {
      "541f47da-9924-42fb-92e4-604912bd8650": {
       "attrs": {
        "height": 0.8,
        "width": 0.8,
        "x": 0.1,
        "y": 0.1
       },
       "content": {
        "cell": "cf4e0dd9-3f44-41e6-a3ea-93edb515fc3c",
        "part": "whole"
       },
       "id": "541f47da-9924-42fb-92e4-604912bd8650"
      }
     }
    },
    "64cf6d43-0bcd-4852-9edf-f34ed27c0268": {
     "id": "64cf6d43-0bcd-4852-9edf-f34ed27c0268",
     "prev": "ec6e26ad-1a15-477c-9f16-095cccf3b622",
     "regions": {
      "b4495fcd-3e14-4aa2-a668-211ff89a5d55": {
       "attrs": {
        "height": 0.8,
        "width": 0.8,
        "x": 0.1,
        "y": 0.1
       },
       "content": {
        "cell": "4eea0842-9947-46d3-b671-9ae238a11786",
        "part": "whole"
       },
       "id": "b4495fcd-3e14-4aa2-a668-211ff89a5d55"
      }
     }
    },
    "69f0a312-ecfc-4508-bc4b-0658265c9545": {
     "id": "69f0a312-ecfc-4508-bc4b-0658265c9545",
     "prev": "429e034a-fc51-4734-8597-8233f00b1ca0",
     "regions": {
      "c79a8c13-c882-4633-b33a-709a715ac359": {
       "attrs": {
        "height": 0.8,
        "width": 0.8,
        "x": 0.1,
        "y": 0.1
       },
       "content": {
        "cell": "684e54af-8510-4236-8d44-e385759f11f2",
        "part": "whole"
       },
       "id": "c79a8c13-c882-4633-b33a-709a715ac359"
      }
     }
    },
    "9a4a3d93-b83d-4a71-b255-201e7b10570f": {
     "id": "9a4a3d93-b83d-4a71-b255-201e7b10570f",
     "prev": "69f0a312-ecfc-4508-bc4b-0658265c9545",
     "regions": {
      "1575c709-30c1-46af-ba43-56d7ca938a8b": {
       "attrs": {
        "height": 0.8,
        "width": 0.8,
        "x": 0.1,
        "y": 0.1
       },
       "content": {
        "cell": "f104cf13-b382-4f4b-974e-465e0853713c",
        "part": "whole"
       },
       "id": "1575c709-30c1-46af-ba43-56d7ca938a8b"
      }
     }
    },
    "a6d39083-6cbe-43a1-b708-37f62644a0bd": {
     "id": "a6d39083-6cbe-43a1-b708-37f62644a0bd",
     "prev": null,
     "regions": {
      "d77984e4-6f46-4a7a-b569-534f721164ab": {
       "attrs": {
        "height": 0.8,
        "width": 0.8,
        "x": 0.1,
        "y": 0.1
       },
       "content": {
        "cell": "908f9bdf-26e3-4fee-8480-c0c75d4d0042",
        "part": "whole"
       },
       "id": "d77984e4-6f46-4a7a-b569-534f721164ab"
      }
     }
    },
    "b378bfd6-575a-4aa7-b276-f706500a4ef6": {
     "id": "b378bfd6-575a-4aa7-b276-f706500a4ef6",
     "prev": "a6d39083-6cbe-43a1-b708-37f62644a0bd",
     "regions": {
      "c28e1060-3b74-4c75-bac0-8587f87d66f0": {
       "attrs": {
        "height": 0.8,
        "width": 0.8,
        "x": 0.1,
        "y": 0.1
       },
       "content": {
        "cell": "979be16b-e571-4324-856a-1c7124de7b18",
        "part": "whole"
       },
       "id": "c28e1060-3b74-4c75-bac0-8587f87d66f0"
      }
     }
    },
    "ec6e26ad-1a15-477c-9f16-095cccf3b622": {
     "id": "ec6e26ad-1a15-477c-9f16-095cccf3b622",
     "prev": "b378bfd6-575a-4aa7-b276-f706500a4ef6",
     "regions": {
      "b441a92e-7724-4866-907c-6fd9a98c1266": {
       "attrs": {
        "height": 0.8,
        "width": 0.8,
        "x": 0.1,
        "y": 0.1
       },
       "content": {
        "cell": "315dedf8-4caa-49bf-9c7a-4a0a86cb0b29",
        "part": "whole"
       },
       "id": "b441a92e-7724-4866-907c-6fd9a98c1266"
      }
     }
    }
   },
   "themes": {}
  }
 },
 "nbformat": 4,
 "nbformat_minor": 1
}
